{
 "cells": [
  {
   "cell_type": "markdown",
   "metadata": {},
   "source": [
    "# AP(P)3RO PROJECT (model de démo \"Drone\") #\n",
    "\n",
    "\n",
    "#### M. Le Gras, A. Naullet, A. Calixte, P. Beaunieux ####"
   ]
  },
  {
   "cell_type": "markdown",
   "metadata": {},
   "source": [
    "## Trouver un Chemin Eulerien ##"
   ]
  },
  {
   "cell_type": "markdown",
   "metadata": {},
   "source": [
    "On simule une ville avec un petit graphe"
   ]
  },
  {
   "cell_type": "code",
   "execution_count": 16,
   "metadata": {},
   "outputs": [],
   "source": [
    "import numpy as np"
   ]
  },
  {
   "cell_type": "code",
   "execution_count": 1,
   "metadata": {},
   "outputs": [
    {
     "name": "stdout",
     "output_type": "stream",
     "text": [
      "[(1, 2, 29), (2, 3, 13), (3, 4, 21), (4, 8, 10), (8, 2, 2), (8, 5, 20), (8, 6, 12), (6, 7, 6), (6, 1, 22)]\n"
     ]
    }
   ],
   "source": [
    "#voici un graphe simulant un morceau de ville\n",
    "#(node1,node2, distance)                                                                                                                                 \n",
    "G = [(1,2,29), (2,3,13), (3,4,21), (4,8,10), (8,2,2), (8,5,20), (8,6,12), (6,7,6), (6,1,22)]\n",
    "print(G)"
   ]
  },
  {
   "cell_type": "markdown",
   "metadata": {},
   "source": [
    "<img src=\"../assets/img/graph_num.png\" width=\"400\">"
   ]
  },
  {
   "cell_type": "markdown",
   "metadata": {},
   "source": [
    "### Transformer un graphe non-eulerienen un graphe eulerien ###"
   ]
  },
  {
   "cell_type": "markdown",
   "metadata": {},
   "source": [
    "Notre problème ici, c'est de trouver un chemin eulerien, cependant notre graph n'est pas Eulerien. (Il possède  trop de noeuds de poid* impaire)\n",
    "\n",
    "Nous allons alors utiliser un algorithme qui transforme un graph non-eulerien en un graph eulerien (sans altérer ses propriétés). Enfin on pourra utiliser un autre algorithme qui trouve un chemin eulerien c-a-d un chemin qui passe par toutes les arretes du graph au moins une fois simulant ainsi un parcours de toutes les rues de la ville.\n",
    "\n",
    "*definition poid: correspond au nombre d'arrêtes que possède le noeud "
   ]
  },
  {
   "cell_type": "code",
   "execution_count": 3,
   "metadata": {},
   "outputs": [],
   "source": [
    "# transformation du graph vers un graph eulerien\n",
    "def odd_vertices(n, edges):\n",
    "    deg = [0] * n\n",
    "    for (a,b,c) in edges:\n",
    "        deg[a] += 1\n",
    "        deg[b] += 1\n",
    "        \n",
    "    return [a for a in range(n) if deg[a] % 2]\n",
    "\n",
    "def is_edges(n, edges, node1, node2):\n",
    "    for (a, b, c) in edges:\n",
    "        if (a == node1 and b == node2) or (a == node2 and b == node1):\n",
    "            return (a,b,c)\n",
    "    return None\n",
    "\n",
    "def list_edges(n, edges, l_vodd):\n",
    "    res = []\n",
    "    index = 1\n",
    "    for a in l_vodd:\n",
    "        #print(\"list edges:\", (index*100)//len(l_vodd))\n",
    "        index+=1\n",
    "        for b in l_vodd:\n",
    "            if (a == b):\n",
    "                continue\n",
    "            tmp = is_edges(n, edges, a, b)\n",
    "            if (tmp and tmp not in res) :\n",
    "                #print(\"MATCH:\", a, b)\n",
    "                res.append(tmp)\n",
    "    return res\n",
    "\n",
    "def shortest_edge_idx(l_edges):\n",
    "    if (len(l_edges) == 0):\n",
    "        return None\n",
    "    shortest = l_edges[0][2]\n",
    "    shortest_index = 0\n",
    "    \n",
    "    index = 1\n",
    "    for (a,b,c) in l_edges[1:]:\n",
    "        if (c < shortest):\n",
    "            shortest = c\n",
    "            shortest_index = index\n",
    "        index+=1\n",
    "    return l_edges[shortest_index]\n",
    "\n",
    "def transform_to_eulerian(n, edges):\n",
    "    list_vodd = odd_vertices(n, edges)\n",
    "    l_edges = list_edges(n, edges, list_vodd)\n",
    "    \n",
    "    len_vodd = len(list_vodd)\n",
    "    if (len_vodd == 2 or len_vodd == 0): #case is already eulerian\n",
    "        return edges\n",
    "    #print(list_vodd)\n",
    "    #print(l_edges)\n",
    "    while(len(list_vodd) != 2):\n",
    "        list_vodd = odd_vertices(n, edges)\n",
    "        l_edges = list_edges(n, edges, list_vodd)\n",
    "        \n",
    "        shortest_edge = shortest_edge_idx(l_edges)\n",
    "        #add edge between two\n",
    "        (a,b,c) = shortest_edge\n",
    "        new_edge = (b,a,c)\n",
    "        edges.append(new_edge)\n",
    "        \n",
    "        #delete from vodd\n",
    "        if (a in list_vodd):\n",
    "            list_vodd.remove(a)\n",
    "        if (b in list_vodd):\n",
    "            list_vodd.remove(b)\n",
    "        \n",
    "        #delete from list_edges\n",
    "        l_edges.remove(shortest_edge)\n",
    "    return edges"
   ]
  },
  {
   "cell_type": "markdown",
   "metadata": {},
   "source": [
    " L'algorithme de transformation en graphe eulerien devrait donner le graphe ci-dessous.<br>\n",
    " Le concept est le suivant: doubler certaines arretes des noeuds qui ont un poid impaire pour simuler un graphe Eulerien.<br>"
   ]
  },
  {
   "cell_type": "markdown",
   "metadata": {},
   "source": [
    "<img src=\"../assets/img/eulerian_graph.png\" width=\"400\">"
   ]
  },
  {
   "cell_type": "code",
   "execution_count": 4,
   "metadata": {},
   "outputs": [
    {
     "name": "stdout",
     "output_type": "stream",
     "text": [
      "Graphe initial: [(1, 2, 29), (2, 3, 13), (3, 4, 21), (4, 8, 10), (8, 2, 2), (8, 5, 20), (8, 6, 12), (6, 7, 6), (6, 1, 22)]\n",
      "Graphe modifié: [(1, 2, 29), (2, 3, 13), (3, 4, 21), (4, 8, 10), (8, 2, 2), (8, 5, 20), (8, 6, 12), (6, 7, 6), (6, 1, 22), (7, 6, 6)]\n"
     ]
    }
   ],
   "source": [
    "print(\"Graphe initial:\", G)\n",
    "G_prime = transform_to_eulerian(len(G), G)\n",
    "print(\"Graphe modifié:\", G_prime)"
   ]
  },
  {
   "cell_type": "markdown",
   "metadata": {},
   "source": [
    "On a bien une arrête qui s'est rajoutée entre les noeuds 6 et 7.<br> \n",
    "De ce fait, La priopriétés qui permet d'avoir un graph pseudo-Eulerien est remplie. La propriété est la suivante: Avoir un ou 2 noeuds de poid impaire (ici le n°5 et le n°2)\n",
    "\n",
    "Notre algo de transformation vers un graphe Eulerien semble donc fonctionner."
   ]
  },
  {
   "cell_type": "markdown",
   "metadata": {},
   "source": [
    "### Trouver le chemin eulerien ###"
   ]
  },
  {
   "cell_type": "markdown",
   "metadata": {},
   "source": [
    "Plusieurs Algorithmes existent pour calculer un chemin eulerien, de part sa simplicité, nous avons decider d'employer l'algorithme de <a href=\"https://en.wikipedia.org/wiki/Eulerian_path#Fleury's_algorithm\">Fleury</a>\n",
    "\n",
    "(Il y'a également des fonctions qui sont la pour adapter le format de notre graphe à celui de l'entré de l'algorithme)"
   ]
  },
  {
   "cell_type": "code",
   "execution_count": 8,
   "metadata": {},
   "outputs": [],
   "source": [
    "from copy import copy\n",
    "\n",
    "'''\n",
    "    is_connected - Checks if a graph in the form of a dictionary is \n",
    "    connected or not, using Breadth-First Search Algorithm (BFS)\n",
    "'''\n",
    "def is_connected(G):\n",
    "    start_node = list(G)[0]\n",
    "    color = {v: 'white' for v in G}\n",
    "    color[start_node] = 'gray'\n",
    "    S = [start_node]\n",
    "    while len(S) != 0:\n",
    "        u = S.pop()\n",
    "        for v in G[u]:\n",
    "            if color[v] == 'white':\n",
    "                color[v] = 'gray'\n",
    "                S.append(v)\n",
    "            color[u] = 'black'\n",
    "    return list(color.values()).count('black') == len(G)\n",
    "\n",
    "'''\n",
    "    odd_degree_nodes - returns a list of all G odd degrees nodes\n",
    "'''\n",
    "def odd_degree_nodes(G):\n",
    "    odd_degree_nodes = []\n",
    "    for u in G:\n",
    "        if len(G[u]) % 2 != 0:\n",
    "            odd_degree_nodes.append(u)\n",
    "    return odd_degree_nodes\n",
    "\n",
    "'''\n",
    "    from_dict - return a list of tuples links from a graph G in a \n",
    "    dictionary format\n",
    "'''    \n",
    "def from_dict(G):\n",
    "    links = []\n",
    "    for u in G:\n",
    "        for v in G[u]:\n",
    "            links.append((u,v))\n",
    "    return links\n",
    "\n",
    "'''\n",
    "    fleury(G) - return eulerian trail from graph G or a \n",
    "    string 'Not Eulerian Graph' if it's not possible to trail a path\n",
    "'''\n",
    "def fleury(G):\n",
    "    '''\n",
    "        checks if G has eulerian cycle or trail\n",
    "    '''\n",
    "    odn = odd_degree_nodes(G)\n",
    "    #print(odn)\n",
    "    if len(odn) > 2 or len(odn) == 1:\n",
    "        return 'Not Eulerian Graph'\n",
    "    else:\n",
    "        g = copy(G)\n",
    "        trail = []\n",
    "        if len(odn) == 2:\n",
    "            u = odn[0]\n",
    "        else:\n",
    "            u = list(g)[0]\n",
    "        # - - - \n",
    "        init = len(from_dict(g)) + 0.0\n",
    "        old_pourcentage = -1\n",
    "        # - - -\n",
    "        \n",
    "        while len(from_dict(g)) > 0:\n",
    "            \n",
    "            # - - - - Affichage du % - - - - -\n",
    "            pourcentage = round((init - len(from_dict(g)) )*100.0/init, 1)\n",
    "            if pourcentage > old_pourcentage:\n",
    "                len_to_clear = len(str(old_pourcentage))+1\n",
    "                clear = '\\x08' * (len_to_clear + 2)\n",
    "                old_pourcentage = pourcentage\n",
    "                print(clear,end=\"\")\n",
    "                print(\"\\r[*] Compute Eulerian path:\", pourcentage, \"%\", end='', flush=True)\n",
    "                print(clear,end=\"\")\n",
    "            # - - - - - - - - - - - - - - - - -\n",
    "            current_vertex = u\n",
    "            for u in g[current_vertex]:\n",
    "                g[current_vertex].remove(u)\n",
    "                g[u].remove(current_vertex)\n",
    "                bridge = not is_connected(g)\n",
    "                if bridge:\n",
    "                    g[current_vertex].append(u)\n",
    "                    g[u].append(current_vertex)\n",
    "                else:\n",
    "                    break\n",
    "            if bridge:\n",
    "                g[current_vertex].remove(u)\n",
    "                g[u].remove(current_vertex)\n",
    "                g.pop(current_vertex)\n",
    "            trail.append((current_vertex, u))\n",
    "    print(\"\\r[*] Compute Eulerian path:\", \"100\", \"%\", end='', flush=True)\n",
    "    print(\"\\n[+] Euleriand Path Found !\")\n",
    "    return trail\n",
    "\n",
    "#adapter le format de notre graph au format dictionnaire de l'algo \"fleury\"\n",
    "def to_dict(G):\n",
    "    dict_graph = {}\n",
    "    for (a,b) in G:\n",
    "        dict_graph[a] = []\n",
    "        dict_graph[b] = []\n",
    "    for (a,b) in G:\n",
    "        dict_graph[a].append(b)\n",
    "        dict_graph[b].append(a)\n",
    "    return dict_graph\n",
    "\n"
   ]
  },
  {
   "cell_type": "code",
   "execution_count": 6,
   "metadata": {},
   "outputs": [],
   "source": [
    "#On utlise toutes les fonctions précedement définies:\n",
    "\n",
    "def transform_and_find_eulerian_path(graph, verbose=False):\n",
    "    if (verbose):\n",
    "        print(\"Initial Graph:\", graph)\n",
    "    graph = transform_to_eulerian(len(graph), graph)\n",
    "    graph2 = []\n",
    "    if (verbose):\n",
    "        print(\"To Eulerian Graph:\", graph)\n",
    "    ### on enlève la ponderation\n",
    "    for (a,b,c) in graph:\n",
    "        graph2.append((a,b))\n",
    "\n",
    "    dict_graph2 = to_dict(graph2)\n",
    "    E_path = fleury(dict_graph2)\n",
    "    if (verbose):\n",
    "        print(\"Eulerian path:\", E_path)\n",
    "    return E_path"
   ]
  },
  {
   "cell_type": "markdown",
   "metadata": {},
   "source": [
    "## Resultats"
   ]
  },
  {
   "cell_type": "markdown",
   "metadata": {},
   "source": [
    "L'appel à la fonction <b>transform_and_find_eulerian_path</b> va permettre de transformer un graphe en un graphe Eulerien; Trouver un Chemin Eulerien; enfin, donner en sortie le chemin ainsi trouvé"
   ]
  },
  {
   "cell_type": "code",
   "execution_count": 32,
   "metadata": {},
   "outputs": [
    {
     "name": "stdout",
     "output_type": "stream",
     "text": [
      "Initial Graph: [(1, 2, 29), (2, 3, 13), (3, 4, 21), (4, 8, 10), (8, 2, 2), (8, 5, 20), (8, 6, 12), (6, 7, 6), (6, 1, 22), (7, 6, 6)]\n",
      "To Eulerian Graph: [(1, 2, 29), (2, 3, 13), (3, 4, 21), (4, 8, 10), (8, 2, 2), (8, 5, 20), (8, 6, 12), (6, 7, 6), (6, 1, 22), (7, 6, 6)]\n",
      "[*] Compute Eulerian path: 90.0 %\n",
      "Eulerian path: [(2, 1), (1, 6), (6, 7), (7, 6), (6, 8), (8, 4), (4, 3), (3, 2), (2, 8), (8, 5)]\n"
     ]
    }
   ],
   "source": [
    "path = transform_and_find_eulerian_path(G,True)"
   ]
  },
  {
   "cell_type": "markdown",
   "metadata": {},
   "source": [
    "Ce qui donne le chemin suivant:\n",
    "<img src=\"../assets/img/eulerian_path.png\" width=\"400\">"
   ]
  },
  {
   "cell_type": "code",
   "execution_count": 9,
   "metadata": {
    "scrolled": false
   },
   "outputs": [
    {
     "name": "stdout",
     "output_type": "stream",
     "text": [
      "Initial Graph: [(0, 1, 9), (1, 2, 28), (1, 22, 27), (2, 3, 6), (3, 4, 13), (3, 6, 20), (4, 5, 25), (5, 6, 11), (5, 14, 18), (6, 7, 7), (7, 8, 18), (8, 9, 13), (8, 10, 29), (10, 11, 9), (11, 12, 10), (11, 18, 7), (12, 13, 11), (12, 14, 2), (13, 14, 5), (13, 15, 5), (15, 16, 11), (15, 21, 11), (16, 17, 18), (16, 21, 19), (17, 18, 23), (17, 19, 4), (18, 19, 24), (19, 20, 9), (21, 22, 1)]\n",
      "To Eulerian Graph: [(0, 1, 9), (1, 2, 28), (1, 22, 27), (2, 3, 6), (3, 4, 13), (3, 6, 20), (4, 5, 25), (5, 6, 11), (5, 14, 18), (6, 7, 7), (7, 8, 18), (8, 9, 13), (8, 10, 29), (10, 11, 9), (11, 12, 10), (11, 18, 7), (12, 13, 11), (12, 14, 2), (13, 14, 5), (13, 15, 5), (15, 16, 11), (15, 21, 11), (16, 17, 18), (16, 21, 19), (17, 18, 23), (17, 19, 4), (18, 19, 24), (19, 20, 9), (21, 22, 1), (14, 12, 2), (19, 17, 4), (15, 13, 5), (18, 11, 7), (1, 0, 9), (6, 5, 11), (9, 8, 13), (21, 16, 19)]\n",
      "[*] Compute Eulerian path: 100 %\n",
      "[+] Euleriand Path Found !\n",
      "Eulerian path: [(3, 2), (2, 1), (1, 0), (0, 1), (1, 22), (22, 21), (21, 15), (15, 13), (13, 12), (12, 11), (11, 10), (10, 8), (8, 9), (9, 8), (8, 7), (7, 6), (6, 3), (3, 4), (4, 5), (5, 6), (6, 5), (5, 14), (14, 12), (12, 14), (14, 13), (13, 15), (15, 16), (16, 21), (21, 16), (16, 17), (17, 18), (18, 11), (11, 18), (18, 19), (19, 17), (17, 19), (19, 20)]\n"
     ]
    }
   ],
   "source": [
    "\n",
    "# TEST Avec un plus gros graphe\n",
    "tab = [(0, 1, 9), (1, 2, 28), (1, 22, 27), (2, 3, 6), (3, 4, 13), (3, 6, 20), (4, 5, 25), (5, 6, 11), (5, 14, 18), (6, 7, 7), (7, 8, 18), (8, 9, 13), (8, 10, 29), (10, 11, 9), (11, 12, 10), (11, 18, 7), (12, 13, 11), (12, 14, 2), (13, 14, 5), (13, 15, 5), (15, 16, 11), (15, 21, 11), (16, 17, 18), (16, 21, 19), (17, 18, 23), (17, 19, 4), (18, 19, 24), (19, 20, 9), (21, 22, 1)]\n",
    "len(tab)\n",
    "big_graph_path = transform_and_find_eulerian_path(tab, True)\n"
   ]
  },
  {
   "cell_type": "markdown",
   "metadata": {},
   "source": [
    "Voici un test sur un graphe un peu plus gros\n",
    "<img src=\"../assets/img/big_path.png\" width=\"500\">"
   ]
  },
  {
   "cell_type": "markdown",
   "metadata": {},
   "source": [
    "On obtient peut-être pas le chemin \"le\" plus optimisé mais en tout cas on a la garantie d'avoir un chemin efficace."
   ]
  }
 ],
 "metadata": {
  "kernelspec": {
   "display_name": "Python 3",
   "language": "python",
   "name": "python3"
  },
  "language_info": {
   "codemirror_mode": {
    "name": "ipython",
    "version": 3
   },
   "file_extension": ".py",
   "mimetype": "text/x-python",
   "name": "python",
   "nbconvert_exporter": "python",
   "pygments_lexer": "ipython3",
   "version": "3.9.2"
  }
 },
 "nbformat": 4,
 "nbformat_minor": 4
}
